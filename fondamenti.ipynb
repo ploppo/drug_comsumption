{
 "cells": [
  {
   "cell_type": "code",
   "execution_count": 2,
   "id": "veterinary-surge",
   "metadata": {},
   "outputs": [],
   "source": [
    "%matplotlib widget\n",
    "import pandas as pd\n",
    "import numpy as np\n",
    "import matplotlib\n",
    "import matplotlib.pyplot as plt\n",
    "import sklearn\n",
    "from sklearn.preprocessing import LabelEncoder\n",
    "from IPython.display import display\n",
    "from sklearn import datasets\n",
    "from sklearn.decomposition import PCA\n",
    "from sklearn.preprocessing import StandardScaler\n",
    "from mpl_toolkits.mplot3d import Axes3D"
   ]
  },
  {
   "cell_type": "markdown",
   "id": "orange-aging",
   "metadata": {},
   "source": [
    "### SERIE"
   ]
  },
  {
   "cell_type": "code",
   "execution_count": 3,
   "id": "framed-antigua",
   "metadata": {},
   "outputs": [],
   "source": [
    "x = np.random.rand(10)\n",
    "s1 = pd.Series(x, index=[f'index{i}' for i in range(1,11)], \n",
    "               name='my_series1')\n",
    "s2 = pd.Series(x, name='my_series2')\n",
    "######\n",
    "d = {'Age':30, 'Height':185, 'Weight':90}\n",
    "s1d = pd.Series(d)"
   ]
  },
  {
   "cell_type": "markdown",
   "id": "weighted-mount",
   "metadata": {},
   "source": [
    "### DF"
   ]
  },
  {
   "cell_type": "code",
   "execution_count": 6,
   "id": "random-charge",
   "metadata": {},
   "outputs": [],
   "source": [
    "D = {'Float_random':np.random.rand(10), \n",
    "     'Integer_random':np.random.permutation(10)}\n",
    "df1d = pd.DataFrame(D)\n",
    "########\n",
    "X = np.random.rand(10,5)\n",
    "df1 = pd.DataFrame(X, index=range(1, X.shape[0] + 1), \n",
    "             columns=[f'column_{i}' for i in range(1, X.shape[1] + 1)])"
   ]
  },
  {
   "cell_type": "code",
   "execution_count": null,
   "id": "ongoing-bryan",
   "metadata": {},
   "outputs": [],
   "source": [
    "df1['column_2']\n",
    "df1_copy = df1.copy()\n",
    "df1_copy.rename(index={1:'nuovo_index'}, \n",
    "                columns={'column_1':'COLONNA_1'})\n",
    "                #colums={k:col[k] for k in range (0,23)}\n",
    "df1.to_csv('df1.csv', \n",
    "           columns=['column_1', 'column_5', 'column_2'],\n",
    "           index_label='ID')\n",
    "mushrooms=pd.read_csv('C:/Users/filip/Desktop/python-mia/datasets/agaricus-lepiota.data', \n",
    "                        header=None)\n",
    "diz={'class':{'e':'edible', 'p':'poisonous'}, \n",
    "     'cap-surface':{'f':'ibrous', 'g':'grooves', \n",
    "                     'y':'caly', 's':'smooth'}}\n",
    "mushrooms.replace(diz);\n",
    "iris_df_copy.plot.scatter(x='petal length (cm)', \n",
    "                          y='petal width (cm)', c='target', \n",
    "                          colormap='tab10', figsize=(12,8))\n",
    "                          #color map serve per scala colori  \n",
    "# mushrooms['class'].value_counts().plot.bar(figsize=(10,8))\n",
    "# fa barplot mettendo in x value counts rispetto a colonna class\n",
    "#display(df) e plt.show() per stampare in ciclo for più df e plot insieme"
   ]
  },
  {
   "cell_type": "markdown",
   "id": "worldwide-graduate",
   "metadata": {},
   "source": [
    "### LABEL ENCODING"
   ]
  },
  {
   "cell_type": "code",
   "execution_count": null,
   "id": "later-jesus",
   "metadata": {},
   "outputs": [],
   "source": [
    "mushrooms = mushrooms.astype('category') #ho bisogno avere valori category\n",
    "mushrooms_work = mushrooms.copy()\n",
    "y=mushrooms_work['class'].values\n",
    "labelenc_class = LabelEncoder()\n",
    "# labelend_class.classes_ restituisce nomi originali classi fittate\n",
    "labelenc_class.fit(mushrooms_work['class'].values) \n",
    "#fit si fa di vett di classi, restituisce ad ogni classe un numero\n",
    "mushrooms_work['class']=labelenc_class.transform(y)\n",
    "#transform data una combinaz di classi restituisce numeri in base a fit "
   ]
  },
  {
   "cell_type": "markdown",
   "id": "compatible-focus",
   "metadata": {},
   "source": [
    "### ONE HOT ENCODING"
   ]
  },
  {
   "cell_type": "code",
   "execution_count": null,
   "id": "under-findings",
   "metadata": {},
   "outputs": [],
   "source": [
    "mushrooms = mushrooms.astype('category') #ho bisogno avere valori category\n",
    "mushrooms_work=pd.get_dummies(mushrooms_work, columns=col_totranslate)\n",
    "#mushrooms_work è un df, columns sono quelle che voglo tradurre in one hot"
   ]
  },
  {
   "cell_type": "markdown",
   "id": "polish-roommate",
   "metadata": {},
   "source": [
    "### DATASET"
   ]
  },
  {
   "cell_type": "markdown",
   "id": "short-heath",
   "metadata": {},
   "source": [
    "iris = datasets.load_iris(as_frame=True)   \n",
    "iris.keys()  \n",
    "dict_keys(['data', 'target', 'frame', 'target_names', 'DESCR', 'feature_names', 'filename']) \n",
    "\n",
    "iris['data']= df con index=samples (150), columns=attributi delle classi (4)  \n",
    "iris['target']= matrice con index=samples (150), columns=numero di classe (3)  \n",
    "iris['frame']= identico a iris['data'] ma con colonna target in più   \n",
    "iris['target_names']=array(['setosa', 'versicolor', 'virginica'], dtype='<U10')    \n",
    "iris['DESCR']=stampa dataset characteristcs in forma leggibile  \n",
    "iris['features_names]=['sepal length',\n",
    " 'sepal width',\n",
    " 'petal length',\n",
    " 'petal width']  \n",
    "iris['filename']='c:\\\\miaenv\\\\lib\\\\site-packages\\\\sklearn\\\\datasets\\\\data\\\\iris.csv'  "
   ]
  },
  {
   "cell_type": "markdown",
   "id": "after-spanish",
   "metadata": {},
   "source": [
    " ### PCA & STANDARD SCALER"
   ]
  },
  {
   "cell_type": "code",
   "execution_count": null,
   "id": "expensive-muslim",
   "metadata": {},
   "outputs": [],
   "source": [
    "scaler_wine = StandardScaler()\n",
    "scaler_wine.fit(X_wine.values)\n",
    "#.values passa valori matrice ma in teoria funziona anche senza\n",
    "X_wine_scaled = scaler_wine.transform(X_wine.values)\n",
    "\n",
    "pca_iris = PCA(#n_components=...)\n",
    "pca_wine_nostd = PCA()\n",
    "pca_iris.fit(X_iris.values)\n",
    "pca_wine.fit(X_wine_scaled)"
   ]
  },
  {
   "cell_type": "markdown",
   "id": "positive-gross",
   "metadata": {},
   "source": [
    "#### Dato un ogg pca gli attrib sono:   \n",
    "   n_features=conserva volore di n iniziale  \n",
    "   mean=conserva vettore medie mu di X come array 1d  \n",
    "   n_components=conserva valore di m (numero di pc)  \n",
    "   components_=conserva la matrice (V|m)'\n",
    "    \n",
    "   (V|m)' APPARTIENE A R^(m,n), LE SUE RIGHE SONO LE m PC!!!   \n",
    "      \n",
    "   explained_variance_=array 1d con autovalori delle pc  \n",
    "   explained_variance_ratio_=array 1d con i val lambda_i/lambda_tot  \n",
    "   (se mi da errore aggiungo _ in fondo ai nomi)"
   ]
  },
  {
   "cell_type": "markdown",
   "id": "clear-repository",
   "metadata": {},
   "source": [
    "### PLOT & BAR PLOT DELLE PC"
   ]
  },
  {
   "cell_type": "code",
   "execution_count": null,
   "id": "solved-stake",
   "metadata": {},
   "outputs": [],
   "source": [
    "plt.figure(figsize=(6,4)) #crea figura\n",
    "plt.plot(np.insert(np.cumsum(pca_iris.explained_variance_ratio_), \n",
    "                   0, 0)) #stampo grafico varianza spiegata da pc\n",
    "plt.title('IRIS') #crea titolo\n",
    "plt.xticks(ticks=np.arange(1, pca_iris.n_features_ + 1), \n",
    "           labels=[f'PC{i}' \n",
    "                   for i in range(1, pca_iris.n_features_ + 1)])\n",
    "#crea differenti nomi e diverse tacchette, vuole delle liste [...]\n",
    "plt.xlabel('Principal components') #nome ascisse\n",
    "plt.ylabel('Cumulative explained variance') #nome ordinate\n",
    "plt.grid() #crea  griglia\n",
    "plt.show() #mostra plot\n",
    "\n",
    "\n",
    "#bar plot pc\n",
    "plt.figure(figsize=(7, 5))\n",
    "plt.bar(np.arange(pca_iris_m.n_features_), pca_iris_m.components_[0, :])\n",
    "plt.xticks(ticks=np.arange(pca_iris_m.n_features_), \n",
    "           labels=X_iris.columns.to_list(),)"
   ]
  },
  {
   "cell_type": "markdown",
   "id": "connected-estimate",
   "metadata": {},
   "source": [
    "### SCORE & LOADING GRAPH"
   ]
  },
  {
   "cell_type": "code",
   "execution_count": null,
   "id": "expressed-relations",
   "metadata": {},
   "outputs": [],
   "source": [
    "plt.figure(figsize=(6,4))\n",
    "# scattr 2d\n",
    "plt.scatter(Y_iris_m[:, 0], Y_iris_m[:, 1], c=iris['target'].values)\n",
    "\n",
    "\n",
    "# scatter 3d\n",
    "ax = fig_winescore.add_subplot(111, projection='3d') #comando necessario\n",
    "ax.scatter(Y_wine_m[:, 0], Y_wine_m[:, 1], \n",
    "           Y_wine_m[:, 2], c=wine['target'].values)\n",
    "\n",
    "\n",
    "# loading 2d\n",
    "for i in range(pca_iris_m.n_features_): \n",
    "    #serve per stampare i vettori di coordinate [0, pca_......]\n",
    "    #infatti (V|m)' appartiene a R^(m,n)\n",
    "    plt.plot([0, pca_iris_m.components_[0, i]], \n",
    "             [0, pca_iris_m.components_[1, i]], \n",
    "             label=X_iris.columns[i])\n",
    "plt.scatter(pca_iris_m.components_[0, :], \n",
    "            pca_iris_m.components_[1, :], c='k') \n",
    "            #stampa i pallini neri\n",
    "plt.legend() #legenda in basso con indicazioni\n",
    "\n",
    "\n",
    "# loading 3d\n",
    "ax = fig_winescore.add_subplot(111, projection='3d') #comando necessario\n",
    "for i in range(pca_wine_m.n_features_):\n",
    "    ax.plot([0, pca_wine_m.components_[0, i]], \n",
    "            [0, pca_wine_m.components_[1, i]], \n",
    "            [0, pca_wine_m.components_[2, i]],\n",
    "             label=X_wine.columns[i])\n",
    "ax.scatter(pca_wine_m.components_[0, :], \n",
    "           pca_wine_m.components_[1, :], \n",
    "           pca_wine_m.components_[2, :], c='k')\n",
    "plt.legend(bbox_to_anchor=(1.05, 1), fontsize='xx-small')"
   ]
  }
 ],
 "metadata": {
  "kernelspec": {
   "display_name": "Python 3",
   "language": "python",
   "name": "python3"
  },
  "language_info": {
   "codemirror_mode": {
    "name": "ipython",
    "version": 3
   },
   "file_extension": ".py",
   "mimetype": "text/x-python",
   "name": "python",
   "nbconvert_exporter": "python",
   "pygments_lexer": "ipython3",
   "version": "3.8.0"
  }
 },
 "nbformat": 4,
 "nbformat_minor": 5
}
