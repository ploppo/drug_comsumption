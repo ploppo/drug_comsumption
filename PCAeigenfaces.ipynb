{
 "cells": [
  {
   "cell_type": "code",
   "execution_count": 1,
   "id": "widespread-symposium",
   "metadata": {},
   "outputs": [],
   "source": [
    "# ***** NOTA BENE! *****\n",
    "# perché %matplotlib widget funzioni, installare nell'ambiente virtuale \n",
    "# il pacchetto ipympl con il comando:\n",
    "# pip install ipympl\n",
    "#\n",
    "# ATTENZIONE: perché funzioni è necessario chiudere e rilanciare jupyter-lab\n",
    "#\n",
    "# STILE DI VISUALIZZAZIONE PLOT FATTI CON MATPLOTLIB\n",
    "%matplotlib widget\n",
    "#\n",
    "#\n",
    "import pandas as pd\n",
    "import numpy as np\n",
    "from sklearn import datasets\n",
    "from sklearn.decomposition import PCA\n",
    "import matplotlib\n",
    "import matplotlib.pyplot as plt"
   ]
  },
  {
   "cell_type": "markdown",
   "id": "cardiac-adolescent",
   "metadata": {},
   "source": [
    "# Importazione del Dataset “Labeled Faces in the Wild”\n",
    "\n",
    "Il dataset in questione è disponibile tramite il sottomodulo \"dataset\" di scikit-learn (come il dataset iris, wine e molti altri) e la funzione fetch_lfw_people. Documentazione completa della funzione qui: https://scikit-learn.org/stable/modules/generated/sklearn.datasets.fetch_lfw_people.html#sklearn.datasets.fetch_lfw_people\n",
    "\n",
    "Il dataset caricato dalla funzione restituisce (ormai vecchie) immagini di volti famosi.\n",
    "L'oggetto restituito è della classe \"Bunch\" di scikit-learn, dal funzionamento simile ai dizionari (per come lo utilizzeremo, potrebbe essere di fatto un dizionario)."
   ]
  },
  {
   "cell_type": "code",
   "execution_count": 2,
   "id": "accessible-vinyl",
   "metadata": {},
   "outputs": [],
   "source": [
    "# Il codice presente in questa cella serve nel caso si verifichi un errore del tipo\n",
    "#\n",
    "# \"URLError: <urlopen error [SSL: CERTIFICATE_VERIFY_FAILED] certificate verify failed: unable to get local issuer certificate (_ssl.c:1124)>\"\n",
    "#\n",
    "# al momento di chiamare la funzione fetch_lfw_people di sklearn.datasets\n",
    "#\n",
    "# ATTENZIONE: il codice di questa cella non è quindi sempre necessario; se quindi non lo fosse, commentarlo pure.\n",
    "#\n",
    "\n",
    "import os, ssl\n",
    "\n",
    "if (not os.environ.get('PYTHONHTTPSVERIFY', '') and getattr(ssl, '_create_unverified_context', None)):\n",
    "    ssl._create_default_https_context = ssl._create_unverified_context"
   ]
  },
  {
   "cell_type": "markdown",
   "id": "through-portuguese",
   "metadata": {},
   "source": [
    "## Importazione di parte del dataset e prime ispezioni del contenuto\n",
    "\n",
    "Di seguito importiamo parte del dataset, stampiamo la descrizione ufficiale fornita da scikit-learn ed esploriamo un po' il contenuto.\n",
    "\n",
    "### Importazione e Stampa Descrizione"
   ]
  },
  {
   "cell_type": "code",
   "execution_count": 3,
   "id": "prescription-disclaimer",
   "metadata": {},
   "outputs": [
    {
     "name": "stdout",
     "output_type": "stream",
     "text": [
      ".. _labeled_faces_in_the_wild_dataset:\n",
      "\n",
      "The Labeled Faces in the Wild face recognition dataset\n",
      "------------------------------------------------------\n",
      "\n",
      "This dataset is a collection of JPEG pictures of famous people collected\n",
      "over the internet, all details are available on the official website:\n",
      "\n",
      "    http://vis-www.cs.umass.edu/lfw/\n",
      "\n",
      "Each picture is centered on a single face. The typical task is called\n",
      "Face Verification: given a pair of two pictures, a binary classifier\n",
      "must predict whether the two images are from the same person.\n",
      "\n",
      "An alternative task, Face Recognition or Face Identification is:\n",
      "given the picture of the face of an unknown person, identify the name\n",
      "of the person by referring to a gallery of previously seen pictures of\n",
      "identified persons.\n",
      "\n",
      "Both Face Verification and Face Recognition are tasks that are typically\n",
      "performed on the output of a model trained to perform Face Detection. The\n",
      "most popular model for Face Detection is called Viola-Jones and is\n",
      "implemented in the OpenCV library. The LFW faces were extracted by this\n",
      "face detector from various online websites.\n",
      "\n",
      "**Data Set Characteristics:**\n",
      "\n",
      "    =================   =======================\n",
      "    Classes                                5749\n",
      "    Samples total                         13233\n",
      "    Dimensionality                         5828\n",
      "    Features            real, between 0 and 255\n",
      "    =================   =======================\n",
      "\n",
      "Usage\n",
      "~~~~~\n",
      "\n",
      "``scikit-learn`` provides two loaders that will automatically download,\n",
      "cache, parse the metadata files, decode the jpeg and convert the\n",
      "interesting slices into memmapped numpy arrays. This dataset size is more\n",
      "than 200 MB. The first load typically takes more than a couple of minutes\n",
      "to fully decode the relevant part of the JPEG files into numpy arrays. If\n",
      "the dataset has  been loaded once, the following times the loading times\n",
      "less than 200ms by using a memmapped version memoized on the disk in the\n",
      "``~/scikit_learn_data/lfw_home/`` folder using ``joblib``.\n",
      "\n",
      "The first loader is used for the Face Identification task: a multi-class\n",
      "classification task (hence supervised learning)::\n",
      "\n",
      "  >>> from sklearn.datasets import fetch_lfw_people\n",
      "  >>> lfw_people = fetch_lfw_people(min_faces_per_person=70, resize=0.4)\n",
      "\n",
      "  >>> for name in lfw_people.target_names:\n",
      "  ...     print(name)\n",
      "  ...\n",
      "  Ariel Sharon\n",
      "  Colin Powell\n",
      "  Donald Rumsfeld\n",
      "  George W Bush\n",
      "  Gerhard Schroeder\n",
      "  Hugo Chavez\n",
      "  Tony Blair\n",
      "\n",
      "The default slice is a rectangular shape around the face, removing\n",
      "most of the background::\n",
      "\n",
      "  >>> lfw_people.data.dtype\n",
      "  dtype('float32')\n",
      "\n",
      "  >>> lfw_people.data.shape\n",
      "  (1288, 1850)\n",
      "\n",
      "  >>> lfw_people.images.shape\n",
      "  (1288, 50, 37)\n",
      "\n",
      "Each of the ``1140`` faces is assigned to a single person id in the ``target``\n",
      "array::\n",
      "\n",
      "  >>> lfw_people.target.shape\n",
      "  (1288,)\n",
      "\n",
      "  >>> list(lfw_people.target[:10])\n",
      "  [5, 6, 3, 1, 0, 1, 3, 4, 3, 0]\n",
      "\n",
      "The second loader is typically used for the face verification task: each sample\n",
      "is a pair of two picture belonging or not to the same person::\n",
      "\n",
      "  >>> from sklearn.datasets import fetch_lfw_pairs\n",
      "  >>> lfw_pairs_train = fetch_lfw_pairs(subset='train')\n",
      "\n",
      "  >>> list(lfw_pairs_train.target_names)\n",
      "  ['Different persons', 'Same person']\n",
      "\n",
      "  >>> lfw_pairs_train.pairs.shape\n",
      "  (2200, 2, 62, 47)\n",
      "\n",
      "  >>> lfw_pairs_train.data.shape\n",
      "  (2200, 5828)\n",
      "\n",
      "  >>> lfw_pairs_train.target.shape\n",
      "  (2200,)\n",
      "\n",
      "Both for the :func:`sklearn.datasets.fetch_lfw_people` and\n",
      ":func:`sklearn.datasets.fetch_lfw_pairs` function it is\n",
      "possible to get an additional dimension with the RGB color channels by\n",
      "passing ``color=True``, in that case the shape will be\n",
      "``(2200, 2, 62, 47, 3)``.\n",
      "\n",
      "The :func:`sklearn.datasets.fetch_lfw_pairs` datasets is subdivided into\n",
      "3 subsets: the development ``train`` set, the development ``test`` set and\n",
      "an evaluation ``10_folds`` set meant to compute performance metrics using a\n",
      "10-folds cross validation scheme.\n",
      "\n",
      ".. topic:: References:\n",
      "\n",
      " * `Labeled Faces in the Wild: A Database for Studying Face Recognition\n",
      "   in Unconstrained Environments.\n",
      "   <http://vis-www.cs.umass.edu/lfw/lfw.pdf>`_\n",
      "   Gary B. Huang, Manu Ramesh, Tamara Berg, and Erik Learned-Miller.\n",
      "   University of Massachusetts, Amherst, Technical Report 07-49, October, 2007.\n",
      "\n",
      "\n",
      "Examples\n",
      "~~~~~~~~\n",
      "\n",
      ":ref:`sphx_glr_auto_examples_applications_plot_face_recognition.py`\n",
      "\n"
     ]
    }
   ],
   "source": [
    "lfw_people = datasets.fetch_lfw_people(min_faces_per_person=70, resize=0.4)\n",
    "\n",
    "print(lfw_people['DESCR'])"
   ]
  },
  {
   "cell_type": "markdown",
   "id": "hawaiian-apartment",
   "metadata": {},
   "source": [
    "### Visualizzazioni \"Esplorative\"\n",
    "\n",
    "Prima di tutto, per comodità, salviamo in variabili apposite i dati contenuti nel simil-dizionario."
   ]
  },
  {
   "cell_type": "code",
   "execution_count": 4,
   "id": "starting-compatibility",
   "metadata": {},
   "outputs": [],
   "source": [
    "face_data = lfw_people['data']\n",
    "face_images = lfw_people['images']\n",
    "face_tnames = lfw_people['target_names']\n",
    "face_targets = lfw_people['target']"
   ]
  },
  {
   "cell_type": "markdown",
   "id": "civilian-hamilton",
   "metadata": {},
   "source": [
    "\n",
    "Per praticità, creiamoci dei DataFrame di lavoro\n",
    "\n",
    "**ESERCIZIO:** Completare il codice della cella seguente per creare il DataFrame \"face_targets_df\" avente per colonne \"target\", con i valori di \"face_targets\", e \"target_names\", avente come valori le stringhe di nomi in \"face_tnames\" corrispondenti ai valori nella colonna accanto."
   ]
  },
  {
   "cell_type": "code",
   "execution_count": 5,
   "id": "floating-hammer",
   "metadata": {},
   "outputs": [],
   "source": [
    "# DataFrame delle immagini rappresentate come vettori\n",
    "face_data_df = pd.DataFrame(face_data)\n",
    "\n",
    "# DataFrame delle classi di appartenenza e dei nomi\n",
    "face_targets_df = pd.DataFrame({'target': face_targets, 'target_names':[face_tnames[t] for t in face_targets]})"
   ]
  },
  {
   "cell_type": "code",
   "execution_count": 6,
   "id": "general-fundamentals",
   "metadata": {},
   "outputs": [
    {
     "data": {
      "text/html": [
       "<div>\n",
       "<style scoped>\n",
       "    .dataframe tbody tr th:only-of-type {\n",
       "        vertical-align: middle;\n",
       "    }\n",
       "\n",
       "    .dataframe tbody tr th {\n",
       "        vertical-align: top;\n",
       "    }\n",
       "\n",
       "    .dataframe thead th {\n",
       "        text-align: right;\n",
       "    }\n",
       "</style>\n",
       "<table border=\"1\" class=\"dataframe\">\n",
       "  <thead>\n",
       "    <tr style=\"text-align: right;\">\n",
       "      <th></th>\n",
       "      <th>0</th>\n",
       "      <th>1</th>\n",
       "      <th>2</th>\n",
       "      <th>3</th>\n",
       "      <th>4</th>\n",
       "      <th>5</th>\n",
       "      <th>6</th>\n",
       "      <th>7</th>\n",
       "      <th>8</th>\n",
       "      <th>9</th>\n",
       "      <th>...</th>\n",
       "      <th>1840</th>\n",
       "      <th>1841</th>\n",
       "      <th>1842</th>\n",
       "      <th>1843</th>\n",
       "      <th>1844</th>\n",
       "      <th>1845</th>\n",
       "      <th>1846</th>\n",
       "      <th>1847</th>\n",
       "      <th>1848</th>\n",
       "      <th>1849</th>\n",
       "    </tr>\n",
       "  </thead>\n",
       "  <tbody>\n",
       "    <tr>\n",
       "      <th>0</th>\n",
       "      <td>254.333328</td>\n",
       "      <td>254.000000</td>\n",
       "      <td>252.000000</td>\n",
       "      <td>240.333328</td>\n",
       "      <td>185.333328</td>\n",
       "      <td>143.666672</td>\n",
       "      <td>174.000000</td>\n",
       "      <td>197.000000</td>\n",
       "      <td>195.666672</td>\n",
       "      <td>192.000000</td>\n",
       "      <td>...</td>\n",
       "      <td>102.000000</td>\n",
       "      <td>100.000000</td>\n",
       "      <td>99.000000</td>\n",
       "      <td>96.000000</td>\n",
       "      <td>92.333336</td>\n",
       "      <td>90.333336</td>\n",
       "      <td>89.333336</td>\n",
       "      <td>87.000000</td>\n",
       "      <td>88.666664</td>\n",
       "      <td>87.000000</td>\n",
       "    </tr>\n",
       "    <tr>\n",
       "      <th>1</th>\n",
       "      <td>39.000000</td>\n",
       "      <td>50.666668</td>\n",
       "      <td>47.000000</td>\n",
       "      <td>54.333332</td>\n",
       "      <td>98.666664</td>\n",
       "      <td>121.000000</td>\n",
       "      <td>139.666672</td>\n",
       "      <td>157.666672</td>\n",
       "      <td>171.000000</td>\n",
       "      <td>177.333328</td>\n",
       "      <td>...</td>\n",
       "      <td>44.333332</td>\n",
       "      <td>59.666668</td>\n",
       "      <td>73.333336</td>\n",
       "      <td>77.333336</td>\n",
       "      <td>83.666664</td>\n",
       "      <td>103.666664</td>\n",
       "      <td>122.666664</td>\n",
       "      <td>117.666664</td>\n",
       "      <td>115.000000</td>\n",
       "      <td>133.000000</td>\n",
       "    </tr>\n",
       "    <tr>\n",
       "      <th>2</th>\n",
       "      <td>89.666664</td>\n",
       "      <td>103.666664</td>\n",
       "      <td>126.333336</td>\n",
       "      <td>141.333328</td>\n",
       "      <td>151.666672</td>\n",
       "      <td>155.333328</td>\n",
       "      <td>155.333328</td>\n",
       "      <td>159.666672</td>\n",
       "      <td>163.000000</td>\n",
       "      <td>166.666672</td>\n",
       "      <td>...</td>\n",
       "      <td>125.333336</td>\n",
       "      <td>112.000000</td>\n",
       "      <td>100.000000</td>\n",
       "      <td>106.666664</td>\n",
       "      <td>125.333336</td>\n",
       "      <td>117.666664</td>\n",
       "      <td>125.000000</td>\n",
       "      <td>175.333328</td>\n",
       "      <td>183.333328</td>\n",
       "      <td>182.666672</td>\n",
       "    </tr>\n",
       "    <tr>\n",
       "      <th>3</th>\n",
       "      <td>16.666666</td>\n",
       "      <td>8.000000</td>\n",
       "      <td>6.666667</td>\n",
       "      <td>6.000000</td>\n",
       "      <td>16.333334</td>\n",
       "      <td>70.000000</td>\n",
       "      <td>170.333328</td>\n",
       "      <td>170.000000</td>\n",
       "      <td>161.000000</td>\n",
       "      <td>106.333336</td>\n",
       "      <td>...</td>\n",
       "      <td>126.000000</td>\n",
       "      <td>190.000000</td>\n",
       "      <td>230.000000</td>\n",
       "      <td>238.000000</td>\n",
       "      <td>239.333328</td>\n",
       "      <td>233.666672</td>\n",
       "      <td>134.000000</td>\n",
       "      <td>28.000000</td>\n",
       "      <td>38.333332</td>\n",
       "      <td>51.333332</td>\n",
       "    </tr>\n",
       "    <tr>\n",
       "      <th>4</th>\n",
       "      <td>123.000000</td>\n",
       "      <td>121.000000</td>\n",
       "      <td>127.000000</td>\n",
       "      <td>129.333328</td>\n",
       "      <td>129.333328</td>\n",
       "      <td>134.666672</td>\n",
       "      <td>142.000000</td>\n",
       "      <td>143.000000</td>\n",
       "      <td>147.666672</td>\n",
       "      <td>152.333328</td>\n",
       "      <td>...</td>\n",
       "      <td>31.333334</td>\n",
       "      <td>17.333334</td>\n",
       "      <td>6.333333</td>\n",
       "      <td>5.333333</td>\n",
       "      <td>5.666667</td>\n",
       "      <td>10.333333</td>\n",
       "      <td>10.666667</td>\n",
       "      <td>22.000000</td>\n",
       "      <td>61.333332</td>\n",
       "      <td>70.333336</td>\n",
       "    </tr>\n",
       "  </tbody>\n",
       "</table>\n",
       "<p>5 rows × 1850 columns</p>\n",
       "</div>"
      ],
      "text/plain": [
       "         0           1           2           3           4           5     \\\n",
       "0  254.333328  254.000000  252.000000  240.333328  185.333328  143.666672   \n",
       "1   39.000000   50.666668   47.000000   54.333332   98.666664  121.000000   \n",
       "2   89.666664  103.666664  126.333336  141.333328  151.666672  155.333328   \n",
       "3   16.666666    8.000000    6.666667    6.000000   16.333334   70.000000   \n",
       "4  123.000000  121.000000  127.000000  129.333328  129.333328  134.666672   \n",
       "\n",
       "         6           7           8           9     ...        1840  \\\n",
       "0  174.000000  197.000000  195.666672  192.000000  ...  102.000000   \n",
       "1  139.666672  157.666672  171.000000  177.333328  ...   44.333332   \n",
       "2  155.333328  159.666672  163.000000  166.666672  ...  125.333336   \n",
       "3  170.333328  170.000000  161.000000  106.333336  ...  126.000000   \n",
       "4  142.000000  143.000000  147.666672  152.333328  ...   31.333334   \n",
       "\n",
       "         1841        1842        1843        1844        1845        1846  \\\n",
       "0  100.000000   99.000000   96.000000   92.333336   90.333336   89.333336   \n",
       "1   59.666668   73.333336   77.333336   83.666664  103.666664  122.666664   \n",
       "2  112.000000  100.000000  106.666664  125.333336  117.666664  125.000000   \n",
       "3  190.000000  230.000000  238.000000  239.333328  233.666672  134.000000   \n",
       "4   17.333334    6.333333    5.333333    5.666667   10.333333   10.666667   \n",
       "\n",
       "         1847        1848        1849  \n",
       "0   87.000000   88.666664   87.000000  \n",
       "1  117.666664  115.000000  133.000000  \n",
       "2  175.333328  183.333328  182.666672  \n",
       "3   28.000000   38.333332   51.333332  \n",
       "4   22.000000   61.333332   70.333336  \n",
       "\n",
       "[5 rows x 1850 columns]"
      ]
     },
     "execution_count": 6,
     "metadata": {},
     "output_type": "execute_result"
    }
   ],
   "source": [
    "face_data_df.head()"
   ]
  },
  {
   "cell_type": "code",
   "execution_count": 7,
   "id": "lonely-argument",
   "metadata": {},
   "outputs": [
    {
     "data": {
      "text/html": [
       "<div>\n",
       "<style scoped>\n",
       "    .dataframe tbody tr th:only-of-type {\n",
       "        vertical-align: middle;\n",
       "    }\n",
       "\n",
       "    .dataframe tbody tr th {\n",
       "        vertical-align: top;\n",
       "    }\n",
       "\n",
       "    .dataframe thead th {\n",
       "        text-align: right;\n",
       "    }\n",
       "</style>\n",
       "<table border=\"1\" class=\"dataframe\">\n",
       "  <thead>\n",
       "    <tr style=\"text-align: right;\">\n",
       "      <th></th>\n",
       "      <th>target</th>\n",
       "      <th>target_names</th>\n",
       "    </tr>\n",
       "  </thead>\n",
       "  <tbody>\n",
       "    <tr>\n",
       "      <th>0</th>\n",
       "      <td>5</td>\n",
       "      <td>Hugo Chavez</td>\n",
       "    </tr>\n",
       "    <tr>\n",
       "      <th>1</th>\n",
       "      <td>6</td>\n",
       "      <td>Tony Blair</td>\n",
       "    </tr>\n",
       "    <tr>\n",
       "      <th>2</th>\n",
       "      <td>3</td>\n",
       "      <td>George W Bush</td>\n",
       "    </tr>\n",
       "    <tr>\n",
       "      <th>3</th>\n",
       "      <td>1</td>\n",
       "      <td>Colin Powell</td>\n",
       "    </tr>\n",
       "    <tr>\n",
       "      <th>4</th>\n",
       "      <td>0</td>\n",
       "      <td>Ariel Sharon</td>\n",
       "    </tr>\n",
       "  </tbody>\n",
       "</table>\n",
       "</div>"
      ],
      "text/plain": [
       "   target   target_names\n",
       "0       5    Hugo Chavez\n",
       "1       6     Tony Blair\n",
       "2       3  George W Bush\n",
       "3       1   Colin Powell\n",
       "4       0   Ariel Sharon"
      ]
     },
     "execution_count": 7,
     "metadata": {},
     "output_type": "execute_result"
    }
   ],
   "source": [
    "face_targets_df.head()"
   ]
  },
  {
   "cell_type": "markdown",
   "id": "increasing-lewis",
   "metadata": {},
   "source": [
    " \n",
    " \n",
    " Vediamo la distribuzione dei volti all'interno del dataset.\n",
    " \n",
    " **ESERCIZIO:** Completare il codice nella cella seguente per visualizzare la distribuzione dei volti nel dataset.\n",
    " \n",
    " "
   ]
  },
  {
   "cell_type": "code",
   "execution_count": 8,
   "id": "hundred-thesaurus",
   "metadata": {
    "tags": []
   },
   "outputs": [
    {
     "data": {
      "application/vnd.jupyter.widget-view+json": {
       "model_id": "b63ef9a074ef4152b5468820841cee56",
       "version_major": 2,
       "version_minor": 0
      },
      "text/plain": [
       "Canvas(toolbar=Toolbar(toolitems=[('Home', 'Reset original view', 'home', 'home'), ('Back', 'Back to previous …"
      ]
     },
     "metadata": {},
     "output_type": "display_data"
    }
   ],
   "source": [
    "# Definire face_counts sfruttando il metodo \"value_counts\" delle Serie rispetto alla \n",
    "# colonna 'target_names' di face_targets_df\n",
    "face_counts =face_targets_df.value_counts(subset='target_names')\n",
    "\n",
    "plt.figure()\n",
    "plt.bar(np.arange(len(face_counts.values)),face_counts.values)\n",
    "plt.xticks(ticks=np.arange(len(face_counts.values)), \n",
    "          labels=face_counts.index.to_list(),\n",
    "          rotation=15)\n",
    "plt.title('DISTRIBUZIONE VOLTI')\n",
    "plt.grid()\n",
    "plt.show()"
   ]
  },
  {
   "cell_type": "markdown",
   "id": "arranged-jewel",
   "metadata": {},
   "source": [
    "Visualizziamo alcuni dei volti, sia come immagine che come vettore."
   ]
  },
  {
   "cell_type": "code",
   "execution_count": 9,
   "id": "premier-better",
   "metadata": {},
   "outputs": [],
   "source": [
    "# Raccogliamo gli indici corrispondenti alle varie classi in un dizionario\n",
    "\n",
    "class_indices = {}\n",
    "\n",
    "for name in face_tnames:\n",
    "    class_indices[name] = face_targets_df.loc[face_targets_df['target_names']==name].index.to_list()"
   ]
  },
  {
   "cell_type": "code",
   "execution_count": 10,
   "id": "prescription-extent",
   "metadata": {},
   "outputs": [
    {
     "data": {
      "application/vnd.jupyter.widget-view+json": {
       "model_id": "afc7ea8506d740449812cf376799f31a",
       "version_major": 2,
       "version_minor": 0
      },
      "text/plain": [
       "Canvas(toolbar=Toolbar(toolitems=[('Home', 'Reset original view', 'home', 'home'), ('Back', 'Back to previous …"
      ]
     },
     "metadata": {},
     "output_type": "display_data"
    }
   ],
   "source": [
    "# Visualizziamo il primo dato per ogni classe\n",
    "\n",
    "fig1, axs1 = plt.subplots(len(face_tnames), 2, figsize=(8, len(face_tnames) * 3))\n",
    "                         #numero righe,  colonne, dimensione immagine\n",
    "for i in range(len(face_tnames)):\n",
    "    \n",
    "    name = face_tnames[i]\n",
    "    first_ind = class_indices[name][0]\n",
    "    \n",
    "    axs1[i, 0].bar(np.arange(face_data.shape[1]), face_data[first_ind, :])\n",
    "    #asse 0 dove inserire titolo e grafico\n",
    "    axs1[i, 0].set_title('{} - vettore R^{}'.format(name, face_data.shape[1]))\n",
    "    \n",
    "    axs1[i, 1].imshow(face_images[first_ind], cmap=plt.cm.gray)\n",
    "    #mostra l'immagine                        ,scala di grigi\n",
    "    axs1[i, 1].set_title('{} - immagine/matrice R^{}x{}'.format(name, face_images.shape[1], face_images.shape[2]))\n",
    "\n",
    "plt.subplots_adjust(wspace=0.5, hspace=0.5)\n",
    "plt.show()"
   ]
  },
  {
   "cell_type": "markdown",
   "id": "urban-stationery",
   "metadata": {},
   "source": [
    "## PCA ed Eigenfaces\n",
    "\n",
    "La PCA è stata applicata (soprattutto in passato, prima dell'avvento del Deep Learning) a problemi di riconoscimento facciale. Tutt'oggi può essere utile per questi scopi o, per esempio, per la compressione di immagini.\n",
    "\n",
    "Proviamo quindi ad applicare la PCA ai vettori contenuti nella variabile \"face_data\"."
   ]
  },
  {
   "cell_type": "markdown",
   "id": "resident-stanford",
   "metadata": {},
   "source": [
    "### Indagine Preliminare sulla Varianza Spiegata\n",
    "\n",
    "**ATTENZIONE:** in questo caso i vettori hanno come elementi i pixel delle immagini e assumono tutti valori tra 0 (nero) e 255 (bianco). Non si rende necessaria l'applicazione di uno StandardScaler (o simili).\n",
    "\n",
    "**ESERCIZIO:** Completare il codice della cella seguente per visualizzare l'andamento della varianza spiegata (percentuale) all'aumentare delle PC considerate.\n"
   ]
  },
  {
   "cell_type": "code",
   "execution_count": 11,
   "id": "corporate-kidney",
   "metadata": {},
   "outputs": [
    {
     "data": {
      "application/vnd.jupyter.widget-view+json": {
       "model_id": "66fa6c2a0f834a11bff2581702a3e7f1",
       "version_major": 2,
       "version_minor": 0
      },
      "text/plain": [
       "Canvas(toolbar=Toolbar(toolitems=[('Home', 'Reset original view', 'home', 'home'), ('Back', 'Back to previous …"
      ]
     },
     "metadata": {},
     "output_type": "display_data"
    }
   ],
   "source": [
    "# Inizializzazione oggetto PCA\n",
    "pca_global = PCA()\n",
    "# \"Fit\" dell'oggetto PCA\n",
    "pca_global.fit(face_data)\n",
    "\n",
    "# Definizione di un array della varianza spiegata percentuale CUMULATIVA\n",
    "expld_variance_global = np.insert(np.cumsum(pca_global.explained_variance_ratio_),0,0)\n",
    "\n",
    "plt.figure()\n",
    "plt.plot(expld_variance_global)\n",
    "plt.title('LFW')\n",
    "plt.xticks(ticks=np.arange(1, pca_global.n_features_ + 1, 100),\n",
    "           labels=[f'PC{i}' for i in range(1, pca_global.n_features_ + 1, 100)],\n",
    "           rotation=30)\n",
    "plt.xlabel('Principal components')\n",
    "plt.ylabel('Cumulative explained variance')\n",
    "plt.grid()\n",
    "plt.show()"
   ]
  },
  {
   "cell_type": "markdown",
   "id": "connected-treaty",
   "metadata": {},
   "source": [
    "Guardando la curva della varianza spiegata, osserviamo che con un numero abbastanza ridotto di PC possiamo \"spiegare\" una buona percentuale della varianza totale.\n",
    "\n",
    "Prendiamo come esempio per l'esercizio una percentuale di varianza totale spiegata pari all'95%.\n",
    "\n",
    "**ESERCIZIO:** Completare il codice della cella seguente per implementare una PCA che selezioni un numero di PC corrispondenti al 95% di varianza totale spiegata."
   ]
  },
  {
   "cell_type": "code",
   "execution_count": 12,
   "id": "above-integral",
   "metadata": {},
   "outputs": [
    {
     "name": "stdout",
     "output_type": "stream",
     "text": [
      "Numero PC: 142\n",
      "% Varianza Tot. Spiegata: 0.950280487537384\n"
     ]
    }
   ],
   "source": [
    "pca_percentage = 0.95\n",
    "pca = PCA(pca_percentage)\n",
    "pca.fit(face_data)\n",
    "\n",
    "print('Numero PC: {}'.format(pca.n_components_))\n",
    "print('% Varianza Tot. Spiegata: {}'.format(pca.explained_variance_ratio_.sum()))"
   ]
  },
  {
   "cell_type": "markdown",
   "id": "breeding-banana",
   "metadata": {},
   "source": [
    "### Eigenfaces\n",
    "\n",
    "Le cosiddette \"eigenfaces\" altro non sono che le PC (autovettori della matrice di covarianza del dataset) visualizzate come immagini invece che come vettori."
   ]
  },
  {
   "cell_type": "code",
   "execution_count": 13,
   "id": "mobile-extra",
   "metadata": {},
   "outputs": [
    {
     "name": "stdout",
     "output_type": "stream",
     "text": [
      "vmin: -0.14722168445587158 (dark purple)\n",
      "vmax: 0.14722168445587158 (yellow)\n"
     ]
    },
    {
     "data": {
      "application/vnd.jupyter.widget-view+json": {
       "model_id": "08fb1f2da94d4ae38ff2901bbe05c0eb",
       "version_major": 2,
       "version_minor": 0
      },
      "text/plain": [
       "Canvas(toolbar=Toolbar(toolitems=[('Home', 'Reset original view', 'home', 'home'), ('Back', 'Back to previous …"
      ]
     },
     "metadata": {},
     "output_type": "display_data"
    },
    {
     "data": {
      "application/vnd.jupyter.widget-view+json": {
       "model_id": "dbac9ad53501433eb4209ab1c031921a",
       "version_major": 2,
       "version_minor": 0
      },
      "text/plain": [
       "Canvas(toolbar=Toolbar(toolitems=[('Home', 'Reset original view', 'home', 'home'), ('Back', 'Back to previous …"
      ]
     },
     "metadata": {},
     "output_type": "display_data"
    },
    {
     "data": {
      "application/vnd.jupyter.widget-view+json": {
       "model_id": "2af274ca039a46739280d458465ff637",
       "version_major": 2,
       "version_minor": 0
      },
      "text/plain": [
       "Canvas(toolbar=Toolbar(toolitems=[('Home', 'Reset original view', 'home', 'home'), ('Back', 'Back to previous …"
      ]
     },
     "metadata": {},
     "output_type": "display_data"
    },
    {
     "data": {
      "application/vnd.jupyter.widget-view+json": {
       "model_id": "78d3e43907994a488dc6726bc29cb74e",
       "version_major": 2,
       "version_minor": 0
      },
      "text/plain": [
       "Canvas(toolbar=Toolbar(toolitems=[('Home', 'Reset original view', 'home', 'home'), ('Back', 'Back to previous …"
      ]
     },
     "metadata": {},
     "output_type": "display_data"
    },
    {
     "data": {
      "application/vnd.jupyter.widget-view+json": {
       "model_id": "fdd2f12909704e50a8d0f05271af0bc7",
       "version_major": 2,
       "version_minor": 0
      },
      "text/plain": [
       "Canvas(toolbar=Toolbar(toolitems=[('Home', 'Reset original view', 'home', 'home'), ('Back', 'Back to previous …"
      ]
     },
     "metadata": {},
     "output_type": "display_data"
    }
   ],
   "source": [
    "# Salviamo le PC \"risistemate\" come matrici/immagini in una lista apposita.\n",
    "\n",
    "_, height, width = face_images.shape\n",
    "eigenfaces = [pca.components_[i].reshape((height, width)) for i in range(pca.n_components_)]\n",
    "\n",
    "vmin = pca.components_.min()\n",
    "vmax = pca.components_.max()\n",
    "\n",
    "vmin = min([vmin, -vmax, 0.0])\n",
    "vmax = max([-vmin, vmax, 0.0])\n",
    "\n",
    "print('vmin: {} (dark purple)'.format(vmin))\n",
    "print('vmax: {} (yellow)'.format(vmax))\n",
    "\n",
    "# Numero di Eigenfaces da visualizzare (non tutte per allegerire l'esecuzione dei plot)\n",
    "n_pc_tosee = 5\n",
    "\n",
    "for i in range(n_pc_tosee): \n",
    "    fig, axs = plt.subplots(1, 3, figsize=(10, 4))\n",
    "    axs[0].bar(np.arange(pca.components_.shape[1]), pca.components_[i, :])\n",
    "    axs[0].set_title('PC{} - vettore R^{}'.format(i + 1, pca.components_.shape[1]))\n",
    "    \n",
    "    axs[1].imshow(eigenfaces[i], cmap=plt.cm.gnuplot2, vmin=vmin, vmax=vmax)\n",
    "    axs[1].set_title('PC{} - eigenface (vmin/vmax)'.format(i + 1, height, width))\n",
    "    \n",
    "    axs[2].imshow(eigenfaces[i], cmap=plt.cm.gray)\n",
    "    axs[2].set_title('PC{} - eigenface (normalized)'.format(i + 1, height, width))\n",
    "    \n",
    "    fig.suptitle('PC{} - {}% Var. Spiegata'.format(i + 1, np.around(100 * pca.explained_variance_ratio_[i], decimals=2)))\n",
    "    \n",
    "    plt.show()\n"
   ]
  },
  {
   "cell_type": "markdown",
   "id": "alert-miller",
   "metadata": {},
   "source": [
    "### Ricostruzione volti da Eigenfaces\n",
    "\n",
    "Vediamo come i volti presenti nel dataset vengono ricostruiti usando il numero di eigenfaces (cioè PC) che abbiamo selezionato (se le usassimo tutte e 1850, avremmo una ricostruzione esatta).\n",
    "\n",
    "**ESERCIZIO:** Completare il codice seguente per la comparare le immagini originali e la loro ricostruzione fatta usando il numero di PC scelto."
   ]
  },
  {
   "cell_type": "code",
   "execution_count": 14,
   "id": "sudden-mixture",
   "metadata": {},
   "outputs": [
    {
     "name": "stdout",
     "output_type": "stream",
     "text": [
      "Sample Indices: [ 928  397  401  818 1026   34  995  301   49 1089  961  502 1256  581\n",
      "  808 1198  646  172 1240  718 1002  935  711   32   99]\n"
     ]
    },
    {
     "data": {
      "application/vnd.jupyter.widget-view+json": {
       "model_id": "2f254a240339468f95e6e1b14f8ffa6e",
       "version_major": 2,
       "version_minor": 0
      },
      "text/plain": [
       "Canvas(toolbar=Toolbar(toolitems=[('Home', 'Reset original view', 'home', 'home'), ('Back', 'Back to previous …"
      ]
     },
     "metadata": {},
     "output_type": "display_data"
    },
    {
     "data": {
      "application/vnd.jupyter.widget-view+json": {
       "model_id": "02c02bfdfdef471e96374db5653d75c0",
       "version_major": 2,
       "version_minor": 0
      },
      "text/plain": [
       "Canvas(toolbar=Toolbar(toolitems=[('Home', 'Reset original view', 'home', 'home'), ('Back', 'Back to previous …"
      ]
     },
     "metadata": {},
     "output_type": "display_data"
    },
    {
     "data": {
      "application/vnd.jupyter.widget-view+json": {
       "model_id": "c63614c3543d4ee8b8835a608869949f",
       "version_major": 2,
       "version_minor": 0
      },
      "text/plain": [
       "Canvas(toolbar=Toolbar(toolitems=[('Home', 'Reset original view', 'home', 'home'), ('Back', 'Back to previous …"
      ]
     },
     "metadata": {},
     "output_type": "display_data"
    },
    {
     "data": {
      "application/vnd.jupyter.widget-view+json": {
       "model_id": "76008f43035143289a675e5e2cbe08a6",
       "version_major": 2,
       "version_minor": 0
      },
      "text/plain": [
       "Canvas(toolbar=Toolbar(toolitems=[('Home', 'Reset original view', 'home', 'home'), ('Back', 'Back to previous …"
      ]
     },
     "metadata": {},
     "output_type": "display_data"
    },
    {
     "data": {
      "application/vnd.jupyter.widget-view+json": {
       "model_id": "deb955fa2f1349299d2d9e8d6c698e30",
       "version_major": 2,
       "version_minor": 0
      },
      "text/plain": [
       "Canvas(toolbar=Toolbar(toolitems=[('Home', 'Reset original view', 'home', 'home'), ('Back', 'Back to previous …"
      ]
     },
     "metadata": {},
     "output_type": "display_data"
    },
    {
     "data": {
      "application/vnd.jupyter.widget-view+json": {
       "model_id": "ad2f5d38417e4d179cd408913015c3d5",
       "version_major": 2,
       "version_minor": 0
      },
      "text/plain": [
       "Canvas(toolbar=Toolbar(toolitems=[('Home', 'Reset original view', 'home', 'home'), ('Back', 'Back to previous …"
      ]
     },
     "metadata": {},
     "output_type": "display_data"
    },
    {
     "data": {
      "application/vnd.jupyter.widget-view+json": {
       "model_id": "381f279dfcf24079aaa6ea5b6a3d1529",
       "version_major": 2,
       "version_minor": 0
      },
      "text/plain": [
       "Canvas(toolbar=Toolbar(toolitems=[('Home', 'Reset original view', 'home', 'home'), ('Back', 'Back to previous …"
      ]
     },
     "metadata": {},
     "output_type": "display_data"
    },
    {
     "data": {
      "application/vnd.jupyter.widget-view+json": {
       "model_id": "5561028c1dd843abae2a0d09634630b7",
       "version_major": 2,
       "version_minor": 0
      },
      "text/plain": [
       "Canvas(toolbar=Toolbar(toolitems=[('Home', 'Reset original view', 'home', 'home'), ('Back', 'Back to previous …"
      ]
     },
     "metadata": {},
     "output_type": "display_data"
    },
    {
     "data": {
      "application/vnd.jupyter.widget-view+json": {
       "model_id": "9467ac316e0548fa81834bf8548e2385",
       "version_major": 2,
       "version_minor": 0
      },
      "text/plain": [
       "Canvas(toolbar=Toolbar(toolitems=[('Home', 'Reset original view', 'home', 'home'), ('Back', 'Back to previous …"
      ]
     },
     "metadata": {},
     "output_type": "display_data"
    },
    {
     "data": {
      "application/vnd.jupyter.widget-view+json": {
       "model_id": "c50e6d30f3c248328fd2d3c5970acf44",
       "version_major": 2,
       "version_minor": 0
      },
      "text/plain": [
       "Canvas(toolbar=Toolbar(toolitems=[('Home', 'Reset original view', 'home', 'home'), ('Back', 'Back to previous …"
      ]
     },
     "metadata": {},
     "output_type": "display_data"
    },
    {
     "data": {
      "application/vnd.jupyter.widget-view+json": {
       "model_id": "81c5f017b351410bbf81b4ec4bc0b21b",
       "version_major": 2,
       "version_minor": 0
      },
      "text/plain": [
       "Canvas(toolbar=Toolbar(toolitems=[('Home', 'Reset original view', 'home', 'home'), ('Back', 'Back to previous …"
      ]
     },
     "metadata": {},
     "output_type": "display_data"
    },
    {
     "data": {
      "application/vnd.jupyter.widget-view+json": {
       "model_id": "1ed0fd7e34854906b344f7277dfa9852",
       "version_major": 2,
       "version_minor": 0
      },
      "text/plain": [
       "Canvas(toolbar=Toolbar(toolitems=[('Home', 'Reset original view', 'home', 'home'), ('Back', 'Back to previous …"
      ]
     },
     "metadata": {},
     "output_type": "display_data"
    },
    {
     "name": "stderr",
     "output_type": "stream",
     "text": [
      "<ipython-input-14-ac90bef2184a>:16: RuntimeWarning: More than 20 figures have been opened. Figures created through the pyplot interface (`matplotlib.pyplot.figure`) are retained until explicitly closed and may consume too much memory. (To control this warning, see the rcParam `figure.max_open_warning`).\n",
      "  fig, axs = plt.subplots(1, 2, figsize=(8, 3))\n"
     ]
    },
    {
     "data": {
      "application/vnd.jupyter.widget-view+json": {
       "model_id": "bc03bbfad1b24dbfbc84b68cfd4e4654",
       "version_major": 2,
       "version_minor": 0
      },
      "text/plain": [
       "Canvas(toolbar=Toolbar(toolitems=[('Home', 'Reset original view', 'home', 'home'), ('Back', 'Back to previous …"
      ]
     },
     "metadata": {},
     "output_type": "display_data"
    },
    {
     "data": {
      "application/vnd.jupyter.widget-view+json": {
       "model_id": "0a5036500ad447349a2b01b9001fe2d2",
       "version_major": 2,
       "version_minor": 0
      },
      "text/plain": [
       "Canvas(toolbar=Toolbar(toolitems=[('Home', 'Reset original view', 'home', 'home'), ('Back', 'Back to previous …"
      ]
     },
     "metadata": {},
     "output_type": "display_data"
    },
    {
     "data": {
      "application/vnd.jupyter.widget-view+json": {
       "model_id": "7f8e6ae5f5124377a30dda88d3fc1de6",
       "version_major": 2,
       "version_minor": 0
      },
      "text/plain": [
       "Canvas(toolbar=Toolbar(toolitems=[('Home', 'Reset original view', 'home', 'home'), ('Back', 'Back to previous …"
      ]
     },
     "metadata": {},
     "output_type": "display_data"
    },
    {
     "data": {
      "application/vnd.jupyter.widget-view+json": {
       "model_id": "a5576417ef7447dfa14654583e6d48da",
       "version_major": 2,
       "version_minor": 0
      },
      "text/plain": [
       "Canvas(toolbar=Toolbar(toolitems=[('Home', 'Reset original view', 'home', 'home'), ('Back', 'Back to previous …"
      ]
     },
     "metadata": {},
     "output_type": "display_data"
    },
    {
     "data": {
      "application/vnd.jupyter.widget-view+json": {
       "model_id": "68da77771a6d4b8ea9bad8053a4581a8",
       "version_major": 2,
       "version_minor": 0
      },
      "text/plain": [
       "Canvas(toolbar=Toolbar(toolitems=[('Home', 'Reset original view', 'home', 'home'), ('Back', 'Back to previous …"
      ]
     },
     "metadata": {},
     "output_type": "display_data"
    },
    {
     "data": {
      "application/vnd.jupyter.widget-view+json": {
       "model_id": "ffbcf411255c47b69f36cb3cee95fb0a",
       "version_major": 2,
       "version_minor": 0
      },
      "text/plain": [
       "Canvas(toolbar=Toolbar(toolitems=[('Home', 'Reset original view', 'home', 'home'), ('Back', 'Back to previous …"
      ]
     },
     "metadata": {},
     "output_type": "display_data"
    },
    {
     "data": {
      "application/vnd.jupyter.widget-view+json": {
       "model_id": "3ede2470f9374d93b06a7db0719cea5a",
       "version_major": 2,
       "version_minor": 0
      },
      "text/plain": [
       "Canvas(toolbar=Toolbar(toolitems=[('Home', 'Reset original view', 'home', 'home'), ('Back', 'Back to previous …"
      ]
     },
     "metadata": {},
     "output_type": "display_data"
    },
    {
     "data": {
      "application/vnd.jupyter.widget-view+json": {
       "model_id": "5de1dfa28c3349d2a4074b28eb9180c5",
       "version_major": 2,
       "version_minor": 0
      },
      "text/plain": [
       "Canvas(toolbar=Toolbar(toolitems=[('Home', 'Reset original view', 'home', 'home'), ('Back', 'Back to previous …"
      ]
     },
     "metadata": {},
     "output_type": "display_data"
    },
    {
     "data": {
      "application/vnd.jupyter.widget-view+json": {
       "model_id": "8a9a33088a274fb9b596ff52fcb9330a",
       "version_major": 2,
       "version_minor": 0
      },
      "text/plain": [
       "Canvas(toolbar=Toolbar(toolitems=[('Home', 'Reset original view', 'home', 'home'), ('Back', 'Back to previous …"
      ]
     },
     "metadata": {},
     "output_type": "display_data"
    },
    {
     "data": {
      "application/vnd.jupyter.widget-view+json": {
       "model_id": "32820b0417084f5b846d39016f9dfc00",
       "version_major": 2,
       "version_minor": 0
      },
      "text/plain": [
       "Canvas(toolbar=Toolbar(toolitems=[('Home', 'Reset original view', 'home', 'home'), ('Back', 'Back to previous …"
      ]
     },
     "metadata": {},
     "output_type": "display_data"
    },
    {
     "data": {
      "application/vnd.jupyter.widget-view+json": {
       "model_id": "67420116dc4844fa8ed70f71b6fb7be0",
       "version_major": 2,
       "version_minor": 0
      },
      "text/plain": [
       "Canvas(toolbar=Toolbar(toolitems=[('Home', 'Reset original view', 'home', 'home'), ('Back', 'Back to previous …"
      ]
     },
     "metadata": {},
     "output_type": "display_data"
    },
    {
     "data": {
      "application/vnd.jupyter.widget-view+json": {
       "model_id": "822966fca3634e3aa2e85a9f59d2dcd5",
       "version_major": 2,
       "version_minor": 0
      },
      "text/plain": [
       "Canvas(toolbar=Toolbar(toolitems=[('Home', 'Reset original view', 'home', 'home'), ('Back', 'Back to previous …"
      ]
     },
     "metadata": {},
     "output_type": "display_data"
    },
    {
     "data": {
      "application/vnd.jupyter.widget-view+json": {
       "model_id": "af2780bb1150410c948e0fc9d186d415",
       "version_major": 2,
       "version_minor": 0
      },
      "text/plain": [
       "Canvas(toolbar=Toolbar(toolitems=[('Home', 'Reset original view', 'home', 'home'), ('Back', 'Back to previous …"
      ]
     },
     "metadata": {},
     "output_type": "display_data"
    }
   ],
   "source": [
    "# Selezione di \"n_randsamples\" volti random dal dataset\n",
    "\n",
    "n_randsamples = 25\n",
    "i_rand = np.random.choice(face_data.shape[0], n_randsamples, replace=False)\n",
    "\n",
    "# Definire una matrice di n_randsamples volti scelti secondo gli indici i_rand (una riga, un volto)\n",
    "rand_faces = face_data[i_rand,:]\n",
    "\n",
    "# Definire la matrice \"built_randfaces\" rappresentante la matrice rand_faces ricostruita tramite le PC.\n",
    "# SUGGERIMENTO: usare i metodi \"transform\" e \"inverse_transform\" della PCA. \n",
    "built_randfaces = pca.inverse_transform(pca.transform(rand_faces))\n",
    "\n",
    "print('Sample Indices: {}'.format(i_rand))\n",
    "\n",
    "for i in range(n_randsamples):\n",
    "    fig, axs = plt.subplots(1, 2, figsize=(8, 3))\n",
    "    ii = i_rand[i]\n",
    "    face_ii = face_images[ii]\n",
    "    builtface_ii = built_randfaces[i, :]\n",
    "    builtface_ii = builtface_ii.reshape((height, width))\n",
    "    \n",
    "    axs[0].imshow(face_ii, cmap=plt.cm.gray)\n",
    "    axs[0].set_title('Volto {} ({})'.format(ii, face_targets_df.loc[ii, 'target_names']))\n",
    "    \n",
    "    axs[1].imshow(builtface_ii, cmap=plt.cm.gray)\n",
    "    axs[1].set_title('Volto {} ricostruito'.format(ii))\n",
    "    \n",
    "plt.show()"
   ]
  },
  {
   "cell_type": "code",
   "execution_count": null,
   "id": "heated-testimony",
   "metadata": {},
   "outputs": [],
   "source": []
  },
  {
   "cell_type": "code",
   "execution_count": null,
   "id": "boxed-camera",
   "metadata": {},
   "outputs": [],
   "source": []
  },
  {
   "cell_type": "code",
   "execution_count": null,
   "id": "quick-nomination",
   "metadata": {},
   "outputs": [],
   "source": []
  }
 ],
 "metadata": {
  "kernelspec": {
   "display_name": "Python 3",
   "language": "python",
   "name": "python3"
  },
  "language_info": {
   "codemirror_mode": {
    "name": "ipython",
    "version": 3
   },
   "file_extension": ".py",
   "mimetype": "text/x-python",
   "name": "python",
   "nbconvert_exporter": "python",
   "pygments_lexer": "ipython3",
   "version": "3.8.0"
  }
 },
 "nbformat": 4,
 "nbformat_minor": 5
}
